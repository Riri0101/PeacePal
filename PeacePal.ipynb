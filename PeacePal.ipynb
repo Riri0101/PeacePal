{
  "nbformat": 4,
  "nbformat_minor": 0,
  "metadata": {
    "colab": {
      "provenance": []
    },
    "kernelspec": {
      "name": "python3",
      "display_name": "Python 3"
    },
    "language_info": {
      "name": "python"
    }
  },
  "cells": [
    {
      "cell_type": "code",
      "execution_count": 17,
      "metadata": {
        "id": "8cHSeKWk_9Zd"
      },
      "outputs": [],
      "source": [
        "#Aim: Mental Health Checkup Chatbot; PeacePal\n",
        "import re\n",
        "import random"
      ]
    },
    {
      "cell_type": "code",
      "source": [
        "class Rule:\n",
        "  #possible negative response\n",
        "  negative_response = (\"no\", \"nope\", \"not happening\", \"nah\", \"naur\", \"naw\", \"sorry\", \"not a chance\")\n",
        "  #exit conversation\n",
        "  exit_response = (\"quit\", \"stop\", \"bye\", \"brb\", \"exit\", \"later\", \"goodbye\", \"done\")\n",
        "  #Random conversation starters\n",
        "  random_questions = (\"How can I help you? \", \"Tell me what happened? \", \"How was your day?\", \"Are you ready to thrive?\", \"What can I do for you today?\"\n",
        "                     \"Did you drink enough water? \", \"Have you eaten anything?\" , \"What's on your mind?\", \"Want to share how your day went?\")\n",
        "\n",
        "\n",
        "  def __init__(self):\n",
        "    self.mentalbot = {'Why_priortise_mental_health' : r'.*\\s*priority.*',\n",
        "                      'what_to_do' : r'.*\\s*do.*',\n",
        "                      'contact_info' : r'.*\\s*info',\n",
        "                      'contact_info' : r'.*\\s*contact you'\n",
        "                      }\n",
        "\n",
        "  def greet (self):\n",
        "    self.name = input(\"Hi! What's your name?\\n\")\n",
        "    will_help = input(f\"Hi {self.name}! I'm PeacePal. I'm your safe space. Can I help you feel better? \\n\")\n",
        "    if will_help in self.negative_response:\n",
        "      print(\"Okay! Have a great day!\")\n",
        "      return\n",
        "    self.chat()\n",
        "\n",
        "  def make_exit (self, reply):\n",
        "    for command in self.exit_response:\n",
        "      if reply == command:\n",
        "        print(\"Okay! Glad I could help!\")\n",
        "        return True\n",
        "\n",
        "  def chat(self):\n",
        "    reply = input(random.choice(self.random_questions)).lower()\n",
        "    while not self.make_exit(reply):\n",
        "      reply = input(self.match_reply(reply))\n",
        "\n",
        "  def match_reply (self,reply):\n",
        "    for key, value in self.mentalbot.items():\n",
        "      intent = key\n",
        "      regex_pattern = value\n",
        "      found_match = re.match(regex_pattern, reply) #checking for patterns\n",
        "      if found_match and intent == 'Why_priortise_mental_health':\n",
        "        return self.Why_priortise_mental_health()\n",
        "      elif found_match and intent == 'what_to_do':\n",
        "        return self.what_to_do()\n",
        "      elif found_match and intent == 'contact_info':\n",
        "        return self.contact_info()\n",
        "    else:\n",
        "      return self.no_match_intent()\n",
        "\n",
        "  def Why_priortise_mental_health(self):\n",
        "      responses = (\"Prioritizing mental health is crucial because it helps you feel your best and live a fulfilling life. Imagine being able to handle stress better, enjoy stronger relationships, and feel more energetic every day. When you take care of your mind, everything else falls into place, making life richer and more enjoyable.\\n\",\n",
        "                   \"Think of your mind as the engine of your car. If it’s not running smoothly, everything else starts to break down. Taking care of your mental health is like regular maintenance for that engine, ensuring you can enjoy the journey without unnecessary breakdowns. \\n\")\n",
        "      return random.choice(responses) #two choices, this will randomly choose which response to print.\n",
        "\n",
        "  def what_to_do(self):\n",
        "      responses = (\"To take care of your mental health, try getting enough sleep, staying active, and eating well. Keep in touch with friends and family, set limits to avoid stress, and don't be afraid to talk to a therapist if you need to. Find time for hobbies and activities that make you happy and help you unwind. Your mind will thank you!\\n\",\n",
        "                   \"Taking care of your mental health can be simple and rewarding. Make sure you get enough rest, stay active, and eat nutritious foods. Stay connected with friends and family, set boundaries to keep stress in check, and reach out to a therapist if you need support. Find joy in activities you love, and remember, a happy mind leads to a happier life!\\n\")\n",
        "      return random.choice(responses)\n",
        "\n",
        "  def contact_info(self):\n",
        "      responses = (\"If you have been feeling down lately, Contact us on PeacePal.help@gmail.com \\n\",\n",
        "                   \"Don't hesitate and write us on PeacePal.help@gmail.com \\n\")\n",
        "      return random.choice(responses)\n",
        "\n",
        "  def no_match_intent(self):\n",
        "      responses = (\"Tell me more \\n\" , \"Can you elaborate\\n\", \"I understand\\n\", \"Don't worry, It'll get better \\n\" ,\"That's cool \\n\" , \"You got it\\n\", \"I see\\n\")\n",
        "      return random.choice(responses)\n",
        "\n",
        "\n",
        "\n",
        "PeacePal = Rule()\n",
        "PeacePal.greet()\n"
      ],
      "metadata": {
        "colab": {
          "base_uri": "https://localhost:8080/"
        },
        "id": "_8Z4LpuKACN_",
        "outputId": "1735235e-6d90-4a4a-f6fa-7d10986ba992"
      },
      "execution_count": 21,
      "outputs": [
        {
          "output_type": "stream",
          "name": "stdout",
          "text": [
            "Hi! What's your name?\n",
            "karan\n",
            "Hi karan! I'm PeacePal. I'm your safe space. Can I help you feel better? \n",
            "donr\n",
            "Are you ready to thrive?done\n",
            "Okay! Glad I could help!\n"
          ]
        }
      ]
    }
  ]
}